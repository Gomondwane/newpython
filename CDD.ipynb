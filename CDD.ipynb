{
  "nbformat": 4,
  "nbformat_minor": 0,
  "metadata": {
    "colab": {
      "provenance": [],
      "authorship_tag": "ABX9TyMSDLjqDkcMUA6WoHPhVNJX"
    },
    "kernelspec": {
      "name": "python3",
      "display_name": "Python 3"
    },
    "language_info": {
      "name": "python"
    }
  },
  "cells": [
    {
      "cell_type": "markdown",
      "source": [
        "# Numpy\n",
        "Es un paquete fundamental para la computación científica en Python y manejo de arrays numéricos multi-dimensionales.\n",
        "Importamos el paquete: `import numpy as np`\n",
        "\n",
        "En el núcleo de NumPy está el ndarray, donde «nd» es por n-dimensional. Un ndarray es un array multidimensional de elementos del mismo tipo.\n",
        "El cómputo es casi 12 veces más rápido utilizando ndarray frente a listas clásicas.\n",
        "\n",
        "## Tipos de datos\n",
        "NumPy maneja gran cantidad de tipos de datos. A diferencia de los tipos de datos numéricos en Python que no establecen un tamaño de bytes de almacenamiento, aquí sí hay una diferencia clara.\n",
        "Algunos de los tipos de datos numéricos en NumPy se presentan en la siguiente tabla:\n",
        "\n",
        "|dtype | Descripción | Rango|\n",
        "|---|---|---|\n",
        "|np.int32 | Integer | De -2147483648 a 2147483647|\n",
        "|np.int64 | Integer | De -9223372036854775808 a 9223372036854775807\n",
        "|np.uint32 | Unsigned integer| De 0 a 4294967295|\n",
        "|np.uint64 | Unsigned integer| De 0 a 18446744073709551615|\n",
        "|np.float32 | Float | De -3.4028235e+38 a 3.4028235e+38|\n",
        "|np.float64 | Float | De -1.7976931348623157e+308 a 1.7976931348623157e+308|\n",
        "\n",
        "**Truco:** NumPy entiende por defecto que int hace referencia a np.int64 y que float hace referencia a np.float64. Son «alias» bastante utilizados.\n",
        "\n",
        "### Convertir a otro tipo\n",
        "Se logra esto mediante el uso de `astype`.\n",
        "Además existe la posibilidad de convertir a una lista cualquier ndarray mediante el método `tolist()`."
      ],
      "metadata": {
        "id": "mBeigg1v0T1g"
      }
    },
    {
      "cell_type": "code",
      "execution_count": null,
      "metadata": {
        "id": "psPtlQqe0Kt5"
      },
      "outputs": [],
      "source": [
        "import numpy as np\n",
        "\n",
        "x = np.array([1, 2, 3, 4, 5])\n",
        "print(x) # [1 2 3 4 5]\n",
        "\n",
        "print(type(x)) # <class 'numpy.ndarray'>\n",
        "print(x.ndim) # Dimesion: 1\n",
        "print(x.size) # Tamaño: 5\n",
        "print(x.shape) # Forma: (5, )\n",
        "print(x.dtype) # Tipo de sus elementos: int64\n",
        "\n",
        "# Espeficicando el tipo de dato\n",
        "y = np.array([10, 20, 30, 40, 50], dtype='int32')\n",
        "print(y) # [10 20 30 40 50]\n",
        "print(y.dtype) # int32\n",
        "\n",
        "# Convertiendo un tipo de dato a otro: int a float con astype\n",
        "f = y.astype(float)\n",
        "print(f.dtype) # float64\n",
        "\n",
        "# Convertir ndarray a lista : tolist()\n",
        "lista = f.tolist()\n",
        "print(type(lista)) # <class 'list'>"
      ]
    },
    {
      "cell_type": "markdown",
      "source": [
        "## Matrices\n",
        "Una matriz no es más que un array bidimensional. Como ya se ha comentado, NumPy provee ndarray que se comporta como un array multidimensional con lo que podríamos crear una matriz sin mayor problema.\n",
        "\n"
      ],
      "metadata": {
        "id": "_Zr7-Pk85G8Q"
      }
    },
    {
      "cell_type": "code",
      "source": [
        "matriz = np.array([ [1, 2, 3], [4, 5, 6], [7, 8, 9], [10, 11, 12] ])\n",
        "\n",
        "print(matriz) # [[ 1  2  3]\n",
        "            # [ 4  5  6]\n",
        "            # [ 7  8  9]\n",
        "            # [10 11 12]]\n",
        "\n",
        "print(matriz.ndim) # 2\n",
        "print(matriz.size) # 12\n",
        "print(matriz.shape) # (4, 3) -> 4 filas x 3 columnas\n",
        "print(matriz.dtype) # int64\n",
        "\n",
        "array1 = np.array([88, 23, 39, 41])\n",
        "array2 = np.array([[76.4 , 21.7, 38.4], [41.2, 52.8, 68.9]])\n",
        "array3 = np.array([[12], [4], [9], [8]])\n",
        "\n",
        "print(array1) # [88 23 39 41]\n",
        "\n",
        "print(array2) # [[76.4 21.7 38.4]\n",
        "            # [41.2 52.8 68.9]]\n",
        "\n",
        "print(array3) # [[12]\n",
        "            # [ 4]\n",
        "            # [ 9]\n",
        "            # [ 8]]"
      ],
      "metadata": {
        "id": "Pz1IqFnz5KiY"
      },
      "execution_count": null,
      "outputs": []
    },
    {
      "cell_type": "markdown",
      "source": [
        "## Cambiando forma\n",
        "Se puede cambiar la forma del array con la función `np.reshape()`\n",
        "\n",
        "## Almacenando arrays\n",
        "Es posible que nos interese almacenar (de forma persistente) los arrays que hemos ido creando. Para ello NumPy nos provee, al menos, de dos mecanismos:\n",
        "1. Almacenamiento en formato binario propio: Mediante el método `save()` podemos\n",
        "guardar la estructura de datos en ficheros .npy.\n",
        "2. Almacenamiento en formato de texto plano: NumPy proporciona el método `savetxt()` con el que podremos volcar la estructura de datos a un fichero de\n",
        "texto csv.\n",
        "\n",
        "### Desempaquetar valores\n",
        "Es posible cargar un array desempaquetando sus valores a través del parámetro `unpack`."
      ],
      "metadata": {
        "id": "3kj0qw258LFL"
      }
    },
    {
      "cell_type": "code",
      "source": [
        "numeros = np.array([1, 2, 3, 4, 5, 6, 7, 8, 9, 10, 11, 12])\n",
        "\n",
        "print(np.reshape(numeros, (3, 4))) # 3 filas x 4 columnas\n",
        "\n",
        "# Si sólo queremos especificar un número determinado de filas o columnas,\n",
        "# podemos dejar la otra dimensión a -1:\n",
        "print(np.reshape(numeros, (6, -1)))\n",
        "print(np.reshape(numeros, (-1, 6)))\n",
        "\n",
        "matriz = np.reshape(numeros, (3, 4))\n",
        "\n",
        "print()\n",
        "# Almacenando arrays :\n",
        "# Forma 1 : Almacenamiento en formato binario propio -> save()\n",
        "np.save('my_matrix', matriz)\n",
        "\n",
        "# Leemos\n",
        "matriz_cargada_1 = np.load('my_matrix.npy')\n",
        "print(matriz_cargada_1)\n",
        "\n",
        "print()\n",
        "# Forma 2 : Almacenamiento en formato de texto plano -> savetxt()\n",
        "np.savetxt('my_matrix.csv', matriz, fmt='%d')\n",
        "\n",
        "# !cat my_matrix.csv\n",
        "\n",
        "# Leemos\n",
        "matriz_cargada_2 = np.loadtxt('my_matrix.csv', dtype=int)\n",
        "print(matriz_cargada_2)\n",
        "\n",
        "# Desempaquetado\n",
        "print()\n",
        "col1, col2, col3, col4 = np.loadtxt('my_matrix.csv', unpack=True, dtype=int)\n",
        "\n",
        "print(col1)\n",
        "print(col2)\n",
        "print(col3)\n",
        "print(col4)"
      ],
      "metadata": {
        "id": "ebhf451r8JGv"
      },
      "execution_count": null,
      "outputs": []
    },
    {
      "cell_type": "markdown",
      "source": [
        "# Funciones predefinidas para creación de arrays\n",
        "NumPy ofrece una gran variedad de funciones predefinidas para creación de arrays que nos\n",
        "permiten simplificar el proceso de construcción de este tipo de estructuras de datos.\n",
        "1. Ceros: `np.zeros((3, 4))` dtype default float.\n",
        "    * `np.zeros((3, 4) dtype=int)`"
      ],
      "metadata": {
        "id": "jIKYr1uBUUlf"
      }
    },
    {
      "cell_type": "code",
      "source": [
        "# Ceros\n",
        "print(np.zeros((2, 2))) # o dtype=int\n",
        "\n",
        "print()\n",
        "# Unos\n",
        "print(np.ones((2, 2)))\n",
        "\n",
        "print()\n",
        "# Mismo valor\n",
        "print(np.full((2, 2), 7)) # np.full_like()\n",
        "\n",
        "print()\n",
        "# Matriz identidad\n",
        "print(np.eye(2))\n",
        "\n",
        "print()\n",
        "# Matriz diagonal\n",
        "print(np.diag([1, 2]))\n",
        "\n",
        "print()\n",
        "# Ejercicio\n",
        "matriz = np.diag(range(50))\n",
        "print(matriz)\n"
      ],
      "metadata": {
        "id": "2xDkZlT_XHU8"
      },
      "execution_count": null,
      "outputs": []
    },
    {
      "cell_type": "markdown",
      "source": [
        "## Valores enteros equiespaciados\n",
        "La función que usamos para este propósito es `np.arange() ` cuyo comportamiento es totalmente análogo a la función «built-in» `range()`.\n",
        "\n",
        "## Valores flotantes equiespaciados\n",
        "La función que usamos para este propósito es `np.linspace()` cuyo comportamiento es «similar» a `np.arange()` pero para valores flotantes.\n",
        "Por defecto esta genera 50 elementos."
      ],
      "metadata": {
        "id": "SJDwwHRKZzRA"
      }
    },
    {
      "cell_type": "code",
      "source": [
        "# Valores enteros equiespaciados\n",
        "# Especificando límite superior:\n",
        "x = np.arange(10)\n",
        "print(x) # [0 1 2 3 4 5 6 7 8 9]\n",
        "\n",
        "# Especificando límite superior e inferior:\n",
        "x = np.arange(5, 10)\n",
        "print(x) # [5 6 7 8 9]\n",
        "\n",
        "# Especificando límite superior e inferior y paso:\n",
        "x = np.arange(1, 10, 2)\n",
        "print(x) # [1 3 5 7 9]\n",
        "\n",
        "# Paso flotante\n",
        "paso_flotante = np.arange(6, 8, 0.3)\n",
        "print(paso_flotante) # [6.  6.3 6.6 6.9 7.2 7.5 7.8]\n",
        "\n",
        "# Valores flotantes equiespaciados\n",
        "# Especificando límite superior e inferior -> default 50 elementos:\n",
        "x = np.linspace(5, 10)\n",
        "print(x)\n",
        "\n",
        "# Especificando límite superior e inferior y total de elementos:\n",
        "x = np.linspace(6, 60, 10)\n",
        "print(x) # [ 6. 12. 18. 24. 30. 36. 42. 48. 54. 60.]\n",
        "\n",
        "# Especificando un intervalo abieto\n",
        "x = np.linspace(6, 60, 10, endpoint=False)\n",
        "print(x)"
      ],
      "metadata": {
        "id": "7RmraTZyZ_6w"
      },
      "execution_count": null,
      "outputs": []
    },
    {
      "cell_type": "code",
      "source": [
        "import numpy as np\n",
        "# Valores aleatorios enteros\n",
        "print(np.random.randint(3, 30)) # Escalar\n",
        "\n",
        "print(np.random.randint(3, 30, size=9)) # Vector\n",
        "\n",
        "print(np.random.randint(3, 30, size=(3, 3))) # Matriz\n",
        "\n",
        "# Valores aleatorios flotantes\n",
        "print(np.random.random(9)) # Entre 0 y 1\n",
        "\n",
        "print(np.random.uniform(1, 100, size=9)) # [a, b] y tamaño"
      ],
      "metadata": {
        "colab": {
          "base_uri": "https://localhost:8080/"
        },
        "id": "KxaK78XzWiHo",
        "outputId": "97e12a72-f5ea-48d9-9241-31fe515a08da"
      },
      "execution_count": null,
      "outputs": [
        {
          "output_type": "stream",
          "name": "stdout",
          "text": [
            "20\n",
            "[ 8 15 22 22 13 14 20  4 27]\n",
            "[[28 23 26]\n",
            " [ 6 18  4]\n",
            " [26 23 13]]\n",
            "[0.11011429 0.04179755 0.17256116 0.92436799 0.75451354 0.30920549\n",
            " 0.8395853  0.63005748 0.50419813]\n",
            "[15.69373181 84.04718395 78.05935722 76.8565685  14.81303014 26.76340518\n",
            " 18.95165188 13.54352605 83.11654521]\n"
          ]
        }
      ]
    },
    {
      "cell_type": "code",
      "source": [
        "# Distribuciones de probabilidad\n",
        "\n",
        "# Distribución de probabilidad normal: Generar 5 números\n",
        "# aleatorios con media 0 y desviación estándar 1\n",
        "print(np.random.normal(0, 1, 5))\n",
        "\n",
        "print(np.random.choice(['Cara', 'Cruz'], size=10))"
      ],
      "metadata": {
        "colab": {
          "base_uri": "https://localhost:8080/"
        },
        "id": "F91rPO6LcHwV",
        "outputId": "a03ac583-1be4-4705-9600-5a4a51cf72d7"
      },
      "execution_count": null,
      "outputs": [
        {
          "output_type": "stream",
          "name": "stdout",
          "text": [
            "[-0.06828072 -0.75243376 -0.30757568  0.50917158 -0.30746695]\n",
            "['Cruz' 'Cara' 'Cara' 'Cruz' 'Cara' 'Cara' 'Cruz' 'Cara' 'Cara' 'Cruz']\n"
          ]
        }
      ]
    },
    {
      "cell_type": "markdown",
      "source": [
        "* Una matriz de 20 filas y 5 columnas con valores flotantes equiespaciados en el intervalo\n",
        "cerrado [1, 10].\n",
        "* Un array unidimensional con 128 valores aleatorios de una distribución normal 𝜇 = 1, 𝜎 = 2.\n",
        "* Un array unidimensional con 15 valores aleatorios de una muestra 1, X, 2 donde la\n",
        "probabilidad de que gane el equipo local es del 50%, la probabilidad de que empaten\n",
        "es del 30% y la probabilidad de que gane el visitante es del 20%."
      ],
      "metadata": {
        "id": "X52R2aronlO-"
      }
    },
    {
      "cell_type": "code",
      "source": [
        "import numpy as np\n",
        "# Ejercicios\n",
        "valores = [1, 'X', 2]\n",
        "\n",
        "# 1\n",
        "matriz = np.linspace(1, 10, num=6).reshape(2, 3)\n",
        "print(matriz)\n",
        "\n",
        "# 2\n",
        "print(np.random.normal(1, 2, size=6))\n",
        "\n",
        "# 3\n",
        "# Definir las probabilidades correspondientes\n",
        "probabilidades = [0.5, 0.3, 0.2]\n",
        "\n",
        "# Generar el array unidimensional con 15 valores aleatorios según las probabilidades\n",
        "resultados = np.random.choice(valores, size=15, p=probabilidades)\n",
        "\n",
        "print(resultados)"
      ],
      "metadata": {
        "colab": {
          "base_uri": "https://localhost:8080/"
        },
        "id": "mpgYhtKTneZ5",
        "outputId": "d939bbbd-530b-45c3-d350-8b969a13ef06"
      },
      "execution_count": null,
      "outputs": [
        {
          "output_type": "stream",
          "name": "stdout",
          "text": [
            "[[ 1.   2.8  4.6]\n",
            " [ 6.4  8.2 10. ]]\n",
            "[2.20121616 2.46777054 1.64165085 1.70667585 0.24253259 0.8823986 ]\n",
            "['1' '2' '2' 'X' '2' '1' 'X' 'X' 'X' '1' 'X' '2' '1' 'X' 'X']\n"
          ]
        }
      ]
    },
    {
      "cell_type": "markdown",
      "source": [
        "# Manipulando elementos\n",
        "## Arrays unidimensionlaes"
      ],
      "metadata": {
        "id": "j3VIndat3YJI"
      }
    },
    {
      "cell_type": "code",
      "source": [
        "import numpy as np\n",
        "\n",
        "valores = np.array([10, 20, 30, 40, 50])\n",
        "\n",
        "print(valores[2])\n",
        "print(valores[4])\n",
        "\n",
        "# Modificación del arreglo\n",
        "valores[0] = valores[3] + valores[4]\n",
        "print(valores)\n",
        "\n",
        "# Borrando : np.delete() no es destructiva sino que devulve una copia del arreglo\n",
        "print(np.delete(valores, 0)) # Indice (como escalar)\n",
        "\n",
        "borrados = np.delete(valores, (2, 3, 4)) # Indices (com tupla)\n",
        "print(borrados)\n",
        "\n",
        "# Inserción : ambas funciones no son destructivas sino que devuelven una copia\n",
        "print(np.append(valores, 200)) # Añade al final\n",
        "print(np.insert(valores, 0, 1000)) # Añade en la posición especificada\n",
        "print(np.append(valores, [800, 900, 1500])) # Añadir varios de una vez"
      ],
      "metadata": {
        "id": "pFP9qTxP07zz"
      },
      "execution_count": null,
      "outputs": []
    },
    {
      "cell_type": "markdown",
      "source": [
        "## Arrays multidimensionales"
      ],
      "metadata": {
        "id": "tEaCIzwT3aCC"
      }
    },
    {
      "cell_type": "code",
      "source": [
        "valores = np.arange(1, 13).reshape(3, 4)\n",
        "print(valores)\n",
        "\n",
        "# Acceso a elementos\n",
        "# Individuales\n",
        "print(valores[0][0]) # 1\n",
        "print(valores[2][3]) # 2\n",
        "\n",
        "# Múltiples\n",
        "print(valores[[0, 2], [1, 2]]) # [ 2, 11]\n",
        "\n",
        "# Filas o columnas completas\n",
        "print(valores[2]) # Tercer fila\n",
        "print(valores[:, 1]) # Segunda columna\n",
        "\n",
        "# Zonas parciales\n",
        "print(valores[0:2, 0:2])\n",
        "print(valores[0:2, [1, 3]])\n",
        "\n",
        "# Modificando\n",
        "valores[0,0] = 100\n",
        "valores[1] = [500, 600, 700, 800]\n",
        "valores[:, 1] = [2000, 6000, 10000]\n",
        "\n",
        "print(valores)\n",
        "print()\n",
        "# Borrando\n",
        "print(np.delete(valores, 0, axis=0)) # Borrado primer fila\n",
        "print(np.delete(valores, (1, 3), axis=1)) # Borrado 2 y 4 columna\n"
      ],
      "metadata": {
        "id": "-Ki8B9423mww"
      },
      "execution_count": null,
      "outputs": []
    },
    {
      "cell_type": "code",
      "source": [
        "import numpy as np\n",
        "# Inserción\n",
        "numeros = np.array([[1, 2], [3, 4]])\n",
        "\n",
        "# Al final\n",
        "print(np.append(numeros, [[5, 6]], axis=0))\n",
        "print(np.append(numeros, [[5], [6]], axis=1))\n",
        "\n",
        "# Arbitrariamente\n",
        "print(np.insert(numeros, 0, [0, 0], axis=0))\n",
        "print(np.insert(numeros, 1, [0, 0], axis=1))"
      ],
      "metadata": {
        "colab": {
          "base_uri": "https://localhost:8080/"
        },
        "id": "4-JyCxqBHZ1Q",
        "outputId": "52f2b8e9-7b7e-425a-c6ea-bc172ca18019"
      },
      "execution_count": null,
      "outputs": [
        {
          "output_type": "stream",
          "name": "stdout",
          "text": [
            "[[1 2]\n",
            " [3 4]\n",
            " [5 6]]\n",
            "[[1 2 5]\n",
            " [3 4 6]]\n",
            "[[0 0]\n",
            " [1 2]\n",
            " [3 4]]\n",
            "[[1 0 2]\n",
            " [3 0 4]]\n"
          ]
        }
      ]
    },
    {
      "cell_type": "code",
      "source": [
        "\n",
        "# Ejercicio\n",
        "matriz = np.array([[17, 12, 31], [49, 11, 51], [21, 31, 62], [63, 75, 22]])\n",
        "print(matriz)\n",
        "\n",
        "#fila_cuatro = matriz[3]\n",
        "#print(fila_cuatro)\n",
        "\n",
        "print()\n",
        "# Eliminamos la fila 3\n",
        "matriz = np.delete(matriz, 3, axis=0)\n",
        "print(matriz)\n",
        "\n",
        "print()\n",
        "# Agregamos en forma de columna\n",
        "matriz = np.append(matriz, [[63], [75], [22]], axis=1)\n",
        "print(matriz)\n",
        "\n",
        "print()\n",
        "# Cambiando de valores la segunda fila\n",
        "matriz[1] = [49, 49, 49, 63]\n",
        "print(matriz)\n",
        "\n",
        "print()\n",
        "# Cambiando de valores la columna 4\n",
        "matriz[:,3] = [63, 63, 63]\n",
        "print(matriz)"
      ],
      "metadata": {
        "id": "ADtEt0zbInrZ"
      },
      "execution_count": null,
      "outputs": []
    },
    {
      "cell_type": "markdown",
      "source": [
        "## Apilando matrices\n",
        "Hay veces que nos interesa combinar dos matrices (arrays en general). Una de los mecanismos que nos proporciona NumPy es el apilado.\n",
        "\n",
        "Dos apilados:\n",
        "1. Vertical\n",
        "2. Horizontal"
      ],
      "metadata": {
        "id": "tU6D_39KNYtS"
      }
    },
    {
      "cell_type": "code",
      "source": [
        "import numpy as np\n",
        "a = np.random.randint(1, 100, size=(3, 2)) # 3 Filas x 2 Columnas\n",
        "b = np.random.randint(1, 100, size=(1, 2)) # 1 Fila x 2 Columnas\n",
        "\n",
        "print(a)\n",
        "print(b)\n",
        "print()\n",
        "\n",
        "# Apilado vertical : np.vstack((a, b))\n",
        "print(np.vstack((a, b)))\n",
        "print()\n",
        "\n",
        "a = np.random.randint(1, 100, size=(3, 2)) # 3 Filas x 2 Columnas\n",
        "b = np.random.randint(1, 100, size=(3, 1)) # 3 Fila x 1 Columnas\n",
        "\n",
        "print(a)\n",
        "print(b)\n",
        "print()\n",
        "\n",
        "# Apilado horizontal : np.hstack((a, b))\n",
        "print(np.hstack((a, b)))"
      ],
      "metadata": {
        "colab": {
          "base_uri": "https://localhost:8080/"
        },
        "id": "orPGHzrbNqAd",
        "outputId": "ebd7cd54-d02d-4098-bd7a-0acbfbadab04"
      },
      "execution_count": null,
      "outputs": [
        {
          "output_type": "stream",
          "name": "stdout",
          "text": [
            "[[95 98]\n",
            " [79 50]\n",
            " [ 2 67]]\n",
            "[[32 94]]\n",
            "\n",
            "[[95 98]\n",
            " [79 50]\n",
            " [ 2 67]\n",
            " [32 94]]\n",
            "\n",
            "[[49 83]\n",
            " [93 60]\n",
            " [ 7  4]]\n",
            "[[80]\n",
            " [58]\n",
            " [21]]\n",
            "\n",
            "[[49 83 80]\n",
            " [93 60 58]\n",
            " [ 7  4 21]]\n"
          ]
        }
      ]
    },
    {
      "cell_type": "markdown",
      "source": [
        "## Repitiendo elementos\n",
        "Existen dos tipos:\n",
        "1. **Repetición por ejes**: El parámetro de repetición indica el número de veces que repetimos el array completo por cada eje.\n",
        "2. **Repetición por elementos**: El parámetro de repetición indica el número de veces que repetimos cada elemento del array."
      ],
      "metadata": {
        "id": "_caaNj-wO8pI"
      }
    },
    {
      "cell_type": "code",
      "source": [
        "# Rep. por ejes\n",
        "valores = np.array([[1, 2], [3, 4], [5, 6]])\n",
        "\n",
        "print(np.tile(valores, 3)) # x3 en columnas\n",
        "print()\n",
        "\n",
        "print(np.tile(valores, (2, 3)))\n",
        "print()\n",
        "\n",
        "# Rep. por elementos\n",
        "print(np.repeat(valores, 2))\n",
        "\n",
        "print(np.repeat(valores, 2, axis=0)) # # x2 en filas\n",
        "\n",
        "print(np.repeat(valores, 3, axis=1)) # x3 en columnas"
      ],
      "metadata": {
        "colab": {
          "base_uri": "https://localhost:8080/"
        },
        "id": "ZDCc16m3PTWK",
        "outputId": "b293c354-eaca-42a8-d30b-2c96dbe2431f"
      },
      "execution_count": null,
      "outputs": [
        {
          "output_type": "stream",
          "name": "stdout",
          "text": [
            "[[1 2 1 2 1 2]\n",
            " [3 4 3 4 3 4]\n",
            " [5 6 5 6 5 6]]\n",
            "\n",
            "[[1 2 1 2 1 2]\n",
            " [3 4 3 4 3 4]\n",
            " [5 6 5 6 5 6]\n",
            " [1 2 1 2 1 2]\n",
            " [3 4 3 4 3 4]\n",
            " [5 6 5 6 5 6]]\n",
            "\n",
            "[1 1 2 2 3 3 4 4 5 5 6 6]\n",
            "[[1 2]\n",
            " [1 2]\n",
            " [3 4]\n",
            " [3 4]\n",
            " [5 6]\n",
            " [5 6]]\n",
            "[[1 1 1 2 2 2]\n",
            " [3 3 3 4 4 4]\n",
            " [5 5 5 6 6 6]]\n"
          ]
        }
      ]
    },
    {
      "cell_type": "markdown",
      "source": [
        "## Acceso por diagonal\n",
        "Es bastante común acceder a elementos de una matriz (array en general) tomando como referencia su diagonal. Para ello, NumPy nos provee de ciertos mecanismos.\n",
        "\n",
        "### Extracción de elementos por diagonal\n",
        "La función `np.diag()` permite acceder a los elementos de un array especificando un parámetro **k** que indica la «distancia» con la diagonal principal.\n",
        "\n",
        "![Imagen](https://aprendepython.es/_images/numpy-diagonal.png)\n",
        "\n",
        "---\n",
        "### Modificación de elementos por diagonal\n",
        "NumPy también provee un método `np.diag_indices()` que retorna los índices de los elementos de la diagonal principal, con lo que podemos modificar sus valores directamente."
      ],
      "metadata": {
        "id": "B4Vflv_FSYXK"
      }
    },
    {
      "cell_type": "code",
      "source": [
        "import numpy as np\n",
        "# Extracción\n",
        "\n",
        "matriz = np.array([[73, 86, 90, 20], [96, 55, 15, 48], [38, 63, 96, 95],\n",
        "[13, 87, 32, 96]])\n",
        "\n",
        "print(matriz, '\\n')\n",
        "\n",
        "print(np.diag(matriz), '\\n') # k = 0\n",
        "\n",
        "for k in range(1, matriz.shape[0]):\n",
        "    print(f'k={k}', np.diag(matriz, k=k))\n",
        "\n",
        "print()\n",
        "\n",
        "for k in range(1, matriz.shape[0]):\n",
        "    print(f'k={-k}', np.diag(matriz, k=-k))\n",
        "\n",
        "# Modificación\n",
        "di = np.diag_indices(matriz.shape[0])\n",
        "matriz[di] = 0\n",
        "print('\\n', matriz)\n",
        "\n",
        "# np.triue_indices : obtiene los índices de los\n",
        "# elementos superiores de una matriz cuadrada\n",
        "indices_superiores = np.triu_indices(matriz.shape[0], k=1)\n",
        "elementos_superiores = matriz[indices_superiores]\n",
        "print(\"\\nElementos superiores:\")\n",
        "print(elementos_superiores, '\\n')\n",
        "\n",
        "# np.trill_indices : obtiene los índices de los\n",
        "# elementos inferiores de una matriz cuadrada\n",
        "indices_inferiores = np.tril_indices(matriz.shape[0], k=-1)\n",
        "elementos_inferiores = matriz[indices_inferiores]\n",
        "print(\"Elementos inferiores:\")\n",
        "print(elementos_inferiores)"
      ],
      "metadata": {
        "colab": {
          "base_uri": "https://localhost:8080/"
        },
        "id": "LyCvCk2vSb5G",
        "outputId": "8343c200-e9f8-4920-b3f5-b9d604932f82"
      },
      "execution_count": null,
      "outputs": [
        {
          "output_type": "stream",
          "name": "stdout",
          "text": [
            "[[73 86 90 20]\n",
            " [96 55 15 48]\n",
            " [38 63 96 95]\n",
            " [13 87 32 96]] \n",
            "\n",
            "[73 55 96 96] \n",
            "\n",
            "k=1 [86 15 95]\n",
            "k=2 [90 48]\n",
            "k=3 [20]\n",
            "\n",
            "k=-1 [96 63 32]\n",
            "k=-2 [38 87]\n",
            "k=-3 [13]\n",
            "\n",
            " [[ 0 86 90 20]\n",
            " [96  0 15 48]\n",
            " [38 63  0 95]\n",
            " [13 87 32  0]]\n",
            "\n",
            "Elementos superiores:\n",
            "[86 90 20 15 48 95] \n",
            "\n",
            "Elementos inferiores:\n",
            "[96 38 63 13 87 32]\n"
          ]
        }
      ]
    },
    {
      "cell_type": "markdown",
      "source": [
        "# Operaciones sobre arrays\n",
        "\n",
        "## Operaciones lógicas\n",
        "\n",
        "### Indexado booleano\n",
        "El indexado booleano es una operación que permite conocer (a nivel de elemento) si un array cumple o no con una determinada condición.\n",
        "Las condiciones pueden ser más complejas e incorporar operadores lógicos `|` (or) y `&` (and).\n",
        "\n",
        "Si lo que nos interesa es obtener los índices del array que satisfacen una determinada condición, NumPy nos proporciona el método `where()`."
      ],
      "metadata": {
        "id": "60Q_WtkgWv3V"
      }
    },
    {
      "cell_type": "code",
      "source": [
        "valores = np.array([[60, 47, 34, 38],\n",
        "[43, 63, 37, 68],\n",
        "[58, 28, 31, 43],\n",
        "[32, 65, 32, 96]])\n",
        "\n",
        "print(valores > 50, '\\n') # indexado booleano\n",
        "\n",
        "print(valores[valores > 50], '\\n') # uso de máscara\n",
        "\n",
        "valores[valores > 50] = -1 # modificación de valores\n",
        "\n",
        "print(valores, '\\n')\n",
        "\n",
        "# Operadores lógicos | y &\n",
        "print((valores < 25) | (valores > 75), '\\n')\n",
        "\n",
        "print((valores > 25) & (valores < 75), '\\n')\n",
        "\n",
        "# Extracción de impares con la función where()\n",
        "id_impar = np.where(valores % 2 != 0)\n",
        "print(valores[id_impar])"
      ],
      "metadata": {
        "colab": {
          "base_uri": "https://localhost:8080/"
        },
        "id": "XiJAFh0rW0Nc",
        "outputId": "c2c10421-7ec5-4fe7-a5e2-1b1d601ca30b"
      },
      "execution_count": null,
      "outputs": [
        {
          "output_type": "stream",
          "name": "stdout",
          "text": [
            "[[ True False False False]\n",
            " [False  True False  True]\n",
            " [ True False False False]\n",
            " [False  True False  True]] \n",
            "\n",
            "[60 63 68 58 65 96] \n",
            "\n",
            "[[-1 47 34 38]\n",
            " [43 -1 37 -1]\n",
            " [-1 28 31 43]\n",
            " [32 -1 32 -1]] \n",
            "\n",
            "[[ True False False False]\n",
            " [False  True False  True]\n",
            " [ True False False False]\n",
            " [False  True False  True]] \n",
            "\n",
            "[[False  True  True  True]\n",
            " [ True False  True False]\n",
            " [False  True  True  True]\n",
            " [ True False  True False]] \n",
            "\n",
            "[-1 47 43 -1 37 -1 -1 31 43 -1 -1]\n"
          ]
        }
      ]
    },
    {
      "cell_type": "markdown",
      "source": [
        "### Ejercicio\n",
        "Partiendo de una matriz de 10 filas y 10 columnas con valores aleatorios enteros en el intervalo\n",
        "[0, 100], realice las operaciones necesarias para obtener una matriz de las mismas dimensiones donde:\n",
        "* Todos los elementos de la diagonal sean 50.\n",
        "* Los elementos mayores que 50 tengan valor 100.\n",
        "* Los elementos menores que 50 tengan valor 0."
      ],
      "metadata": {
        "id": "ipZnSqmFaTYX"
      }
    },
    {
      "cell_type": "code",
      "source": [
        "import numpy as np\n",
        "matriz = np.random.randint(1, 100, size=(10, 10))\n",
        "print(matriz, '\\n')\n",
        "\n",
        "# Modificamos los valores de la diagonal por 50\n",
        "indices = np.diag_indices(matriz.shape[0])\n",
        "matriz[indices] = 50\n",
        "print(matriz, '\\n')\n",
        "\n",
        "# Elementos mayores a 50 con valor 100\n",
        "matriz[matriz > 50] = 100\n",
        "print(matriz, '\\n')\n",
        "\n",
        "# Elementos menores a 50 con valor 0\n",
        "matriz[matriz < 50] = 0\n",
        "print(matriz, '\\n')"
      ],
      "metadata": {
        "colab": {
          "base_uri": "https://localhost:8080/"
        },
        "id": "Ye9e1kDCaag5",
        "outputId": "627acccd-19fb-4069-e9d8-b36e9dee1d7a"
      },
      "execution_count": null,
      "outputs": [
        {
          "output_type": "stream",
          "name": "stdout",
          "text": [
            "[[77 63  2 53 56 46 79 28 43 25]\n",
            " [97 67 77 68 68 71 78 14  8 84]\n",
            " [74 10 25 88 82 47 90 57 59 80]\n",
            " [78 53 57 33 39 50 37 37 81 45]\n",
            " [ 3 65 36 74 67  9 37 77 43 89]\n",
            " [30 69 39 82 90 11 55 91 20 93]\n",
            " [22 53 23 49 15 64 14  3 47 20]\n",
            " [61 70 94 76 46 19 55 19 71 58]\n",
            " [14 98 98 27 67 16 79 36 72 90]\n",
            " [35 13 74 69 99 27 96 69 19  9]] \n",
            "\n",
            "[[50 63  2 53 56 46 79 28 43 25]\n",
            " [97 50 77 68 68 71 78 14  8 84]\n",
            " [74 10 50 88 82 47 90 57 59 80]\n",
            " [78 53 57 50 39 50 37 37 81 45]\n",
            " [ 3 65 36 74 50  9 37 77 43 89]\n",
            " [30 69 39 82 90 50 55 91 20 93]\n",
            " [22 53 23 49 15 64 50  3 47 20]\n",
            " [61 70 94 76 46 19 55 50 71 58]\n",
            " [14 98 98 27 67 16 79 36 50 90]\n",
            " [35 13 74 69 99 27 96 69 19 50]] \n",
            "\n",
            "[[ 50 100   2 100 100  46 100  28  43  25]\n",
            " [100  50 100 100 100 100 100  14   8 100]\n",
            " [100  10  50 100 100  47 100 100 100 100]\n",
            " [100 100 100  50  39  50  37  37 100  45]\n",
            " [  3 100  36 100  50   9  37 100  43 100]\n",
            " [ 30 100  39 100 100  50 100 100  20 100]\n",
            " [ 22 100  23  49  15 100  50   3  47  20]\n",
            " [100 100 100 100  46  19 100  50 100 100]\n",
            " [ 14 100 100  27 100  16 100  36  50 100]\n",
            " [ 35  13 100 100 100  27 100 100  19  50]] \n",
            "\n",
            "[[ 50 100   0 100 100   0 100   0   0   0]\n",
            " [100  50 100 100 100 100 100   0   0 100]\n",
            " [100   0  50 100 100   0 100 100 100 100]\n",
            " [100 100 100  50   0  50   0   0 100   0]\n",
            " [  0 100   0 100  50   0   0 100   0 100]\n",
            " [  0 100   0 100 100  50 100 100   0 100]\n",
            " [  0 100   0   0   0 100  50   0   0   0]\n",
            " [100 100 100 100   0   0 100  50 100 100]\n",
            " [  0 100 100   0 100   0 100   0  50 100]\n",
            " [  0   0 100 100 100   0 100 100   0  50]] \n",
            "\n"
          ]
        }
      ]
    },
    {
      "cell_type": "markdown",
      "source": [
        "## Comparando arrays\n",
        "Dados dos arrays podemos compararlos usando el operador `==` del mismo modo que con cualquier otro objeto en Python. La cuestión es que el resultado se evalúa a nivel de elemento.  \n",
        "Si queremos comparar arrays en su totalidad, podemos hacer uso de la siguiente función `np.array_equal()`."
      ],
      "metadata": {
        "id": "J1u3XzCfb15l"
      }
    },
    {
      "cell_type": "code",
      "source": [
        "a = np.array([[1, 2], [3, 4]])\n",
        "b = np.array([[1, 2], [3, 4]])\n",
        "\n",
        "print(a == b)\n",
        "\n",
        "# Si queremos comparar arrays en su totalidad, podemos hacer uso de la siguiente función:\n",
        "print(np.array_equal(a, b))"
      ],
      "metadata": {
        "colab": {
          "base_uri": "https://localhost:8080/"
        },
        "id": "veLVOlE1b1Sr",
        "outputId": "0d9d1ae6-970b-4afc-a4ff-cd6a9594485e"
      },
      "execution_count": null,
      "outputs": [
        {
          "output_type": "stream",
          "name": "stdout",
          "text": [
            "[[ True  True]\n",
            " [ True  True]]\n",
            "True\n"
          ]
        }
      ]
    },
    {
      "cell_type": "markdown",
      "source": [
        "## Operaciones de conjunto\n",
        "Al igual que existen operaciones sobre conjuntos en Python, también podemos llevarlas a cabo sobre arrays en NumPy."
      ],
      "metadata": {
        "id": "JTpdSxd_fUwn"
      }
    },
    {
      "cell_type": "code",
      "source": [
        "import numpy as np\n",
        "\n",
        "x = np.array([ 9, 4, 11, 3, 14, 5, 13, 12, 7, 14])\n",
        "y = np.array([17, 9, 19, 4, 18, 4, 7, 13, 11, 10])\n",
        "\n",
        "# Unión\n",
        "print(np.union1d(x, y))\n",
        "\n",
        "# Intersección\n",
        "print(np.intersect1d(x, y))\n",
        "\n",
        "# Diferencia\n",
        "print(np.setdiff1d(x, y))"
      ],
      "metadata": {
        "colab": {
          "base_uri": "https://localhost:8080/"
        },
        "id": "3sa47ER6fRFT",
        "outputId": "73407927-6273-4382-a9a9-879f8f5fa1b3"
      },
      "execution_count": null,
      "outputs": [
        {
          "output_type": "stream",
          "name": "stdout",
          "text": [
            "[ 3  4  5  7  9 10 11 12 13 14 17 18 19]\n",
            "[ 4  7  9 11 13]\n",
            "[ 3  5 12 14]\n"
          ]
        }
      ]
    },
    {
      "cell_type": "markdown",
      "source": [
        "## Ordenación de arrays\n",
        "En términos generales, existen dos formas de ordenar cualquier estructura de datos, una que modifica «in-situ» los valores (destructiva) y otra que devuelve «nuevos» valores (no destructiva). En el caso de NumPy también es así."
      ],
      "metadata": {
        "id": "nutEfs2PE74P"
      }
    },
    {
      "cell_type": "code",
      "source": [
        "import numpy as np\n",
        "# Ordenación array unidimensionales\n",
        "\n",
        "valores = np.array([23, 24, 92, 88, 75, 68, 12, 91, 94, 24, 9, 21, 42, 3, 66])\n",
        "print(valores)\n",
        "\n",
        "# Operación no destructiva\n",
        "print(np.sort(valores))\n",
        "\n",
        "# Operación destructiva\n",
        "valores.sort()\n",
        "print(valores)\n",
        "\n",
        "# Ordenación multidimensionales\n",
        "matriz = np.array([[52, 23, 90, 46],\n",
        "[61, 63, 74, 59],\n",
        "[75, 5, 58, 70],\n",
        "[21, 7, 80, 52]])\n",
        "\n",
        "# No destructiva\n",
        "print(np.sort(matriz, axis=1)) # Por columnas\n",
        "print(np.sort(matriz, axis=0)) # Por filas\n",
        "\n",
        "# Destructiva\n",
        "matriz.sort(axis=1)\n",
        "print(matriz)\n",
        "\n",
        "matriz.sort(axis=0)\n",
        "print(matriz)"
      ],
      "metadata": {
        "colab": {
          "base_uri": "https://localhost:8080/"
        },
        "id": "AAxHKrQYFNpv",
        "outputId": "1ef716ad-d41f-41b2-f429-28960ee1c8af"
      },
      "execution_count": null,
      "outputs": [
        {
          "output_type": "stream",
          "name": "stdout",
          "text": [
            "[23 24 92 88 75 68 12 91 94 24  9 21 42  3 66]\n",
            "[ 3  9 12 21 23 24 24 42 66 68 75 88 91 92 94]\n",
            "[ 3  9 12 21 23 24 24 42 66 68 75 88 91 92 94]\n",
            "[[23 46 52 90]\n",
            " [59 61 63 74]\n",
            " [ 5 58 70 75]\n",
            " [ 7 21 52 80]]\n",
            "[[21  5 58 46]\n",
            " [52  7 74 52]\n",
            " [61 23 80 59]\n",
            " [75 63 90 70]]\n",
            "[[23 46 52 90]\n",
            " [59 61 63 74]\n",
            " [ 5 58 70 75]\n",
            " [ 7 21 52 80]]\n",
            "[[ 5 21 52 74]\n",
            " [ 7 46 52 75]\n",
            " [23 58 63 80]\n",
            " [59 61 70 90]]\n"
          ]
        }
      ]
    },
    {
      "cell_type": "markdown",
      "source": [
        "\n",
        "\n",
        "# Ejemplos"
      ],
      "metadata": {
        "id": "JYow5rAAzuLT"
      }
    },
    {
      "cell_type": "code",
      "source": [
        "import numpy as np\n",
        "\n",
        "# Creamos una matriz de ejemplo\n",
        "matriz = np.array([[1, 2, 3], [4, 5, 6], [7, 8, 9]])\n",
        "print(matriz)\n",
        "\n",
        "# Calculamos la suma a lo largo del eje 0 (sumando las filas)\n",
        "suma_filas = np.sum(matriz, axis=0)\n",
        "print(f'Suma de filas: {suma_filas}')\n",
        "\n",
        "# Calculamos la suma a lo largo del eje 1 (sumando las columnas)\n",
        "suma_columnas = np.sum(matriz, axis=1)\n",
        "print(f'Suma de columnas: {suma_columnas}')"
      ],
      "metadata": {
        "colab": {
          "base_uri": "https://localhost:8080/"
        },
        "id": "4DD0VVbhzvsE",
        "outputId": "d08c07df-9f78-45de-adf6-e27a60ae7b72"
      },
      "execution_count": null,
      "outputs": [
        {
          "output_type": "stream",
          "name": "stdout",
          "text": [
            "[[1 2 3]\n",
            " [4 5 6]\n",
            " [7 8 9]]\n",
            "Suma de filas: [12 15 18]\n",
            "Suma de columnas: [ 6 15 24]\n"
          ]
        }
      ]
    },
    {
      "cell_type": "markdown",
      "source": [
        "## Contando valores\n",
        "Otra de las herramientas útiles que proporciona NumPy es la posibilidad de contar el número de valores que existen en un array en base a ciertos criterios."
      ],
      "metadata": {
        "id": "LE_R3GHkG2-n"
      }
    },
    {
      "cell_type": "code",
      "source": [
        "aleatorios = np.random.randint(1, 11, size=100)\n",
        "# print(aleatorios)\n",
        "\n",
        "# Contando valores únicos\n",
        "print(np.unique(aleatorios))\n",
        "\n",
        "# Valores únicos (incluyendo frecuencias):\n",
        "print(np.unique(aleatorios, return_counts=True))\n",
        "\n",
        "# Valores distintos de cero:\n",
        "print(np.count_nonzero(aleatorios))\n",
        "\n",
        "# Valores distintos de cero (incluyendo condición):\n",
        "print(np.count_nonzero(aleatorios > 5))"
      ],
      "metadata": {
        "colab": {
          "base_uri": "https://localhost:8080/"
        },
        "id": "_GBE2LKHG2Mu",
        "outputId": "008bcb42-9dda-4230-9e50-a9ac8f0152ea"
      },
      "execution_count": null,
      "outputs": [
        {
          "output_type": "stream",
          "name": "stdout",
          "text": [
            "[ 1  2  3  4  5  6  7  8  9 10]\n",
            "(array([ 1,  2,  3,  4,  5,  6,  7,  8,  9, 10]), array([ 6, 11,  9,  9, 12, 13, 10, 10, 12,  8]))\n",
            "100\n",
            "53\n"
          ]
        }
      ]
    },
    {
      "cell_type": "markdown",
      "source": [
        "## Operaciones aritméticas\n",
        "Una de las grandes ventajas del uso de arrays numéricos en NumPy es la posibilidad de trabajar con ellos como si fueran objetos «simples» pero sacando partido de la aritmética vectorial. Esto redunda en una mayor eficiencia y rapidez de cómputo."
      ],
      "metadata": {
        "id": "SEZ8YB-CIMuC"
      }
    },
    {
      "cell_type": "code",
      "source": [
        "import numpy as np\n",
        "a = np.array([[21, 86, 45], [31, 36, 78], [31, 64, 70]])\n",
        "\n",
        "b = np.array([[58, 67, 17], [99, 53, 9], [92, 42, 75]])\n",
        "\n",
        "print(a + b, '\\n')\n",
        "print(a - b, '\\n')\n",
        "print(a * b, '\\n')\n",
        "print(a / b, '\\n')\n",
        "print(a // b, '\\n')"
      ],
      "metadata": {
        "colab": {
          "base_uri": "https://localhost:8080/"
        },
        "id": "Qq31vJt4INbi",
        "outputId": "7dfee903-266f-4955-c856-928bbd085b9a"
      },
      "execution_count": null,
      "outputs": [
        {
          "output_type": "stream",
          "name": "stdout",
          "text": [
            "[[ 79 153  62]\n",
            " [130  89  87]\n",
            " [123 106 145]] \n",
            "\n",
            "[[-37  19  28]\n",
            " [-68 -17  69]\n",
            " [-61  22  -5]] \n",
            "\n",
            "[[1218 5762  765]\n",
            " [3069 1908  702]\n",
            " [2852 2688 5250]] \n",
            "\n",
            "[[0.36206897 1.28358209 2.64705882]\n",
            " [0.31313131 0.67924528 8.66666667]\n",
            " [0.33695652 1.52380952 0.93333333]] \n",
            "\n",
            "[[0 1 2]\n",
            " [0 0 8]\n",
            " [0 1 0]] \n",
            "\n"
          ]
        }
      ]
    },
    {
      "cell_type": "markdown",
      "source": [
        "## Operaciones aritméticas con distintas dimensiones\n",
        "Cuando operamos entre arrays con dimensiones diferentes, siempre y cuando se cumplan ciertas restricciones en tamaños de filas y/o columnas, lo que se produce es un «broadcasting» (o difusión) de los valores.\n",
        "\n",
        "En el caso de que no coincidan dimensiones de filas y/o columnas, NumPy\n",
        "no podrá ejecutar la operación y obtendremos un error: `ValueError: operands could not be broadcast together with shapes`"
      ],
      "metadata": {
        "id": "R8xhAy7tL6AO"
      }
    },
    {
      "cell_type": "code",
      "source": [
        "import numpy as np\n",
        "numeros = np.array([[9, 8, 1], [7, 6, 7]])\n",
        "\n",
        "fila = np.array([[2, 3, 6]])\n",
        "columna = np.array([[100], [1000]])\n",
        "\n",
        "# Suma con array fila\n",
        "print(numeros + fila, '\\n')\n",
        "print(numeros + columna, '\\n')"
      ],
      "metadata": {
        "colab": {
          "base_uri": "https://localhost:8080/"
        },
        "id": "WdducM5fMT0a",
        "outputId": "fe5f9464-03cb-4ad4-afaa-922a3818ca2b"
      },
      "execution_count": null,
      "outputs": [
        {
          "output_type": "stream",
          "name": "stdout",
          "text": [
            "[[11 11  7]\n",
            " [ 9  9 13]] \n",
            "\n",
            "[[ 109  108  101]\n",
            " [1007 1006 1007]] \n",
            "\n"
          ]
        }
      ]
    },
    {
      "cell_type": "markdown",
      "source": [
        "## Operaciones entre arrays y escalares\n",
        "Al igual que ocurría en los casos anteriores, si operamos con un array y un escalar, éste último será difundido para abarcar el tamaño del array."
      ],
      "metadata": {
        "id": "qZQkDBZ_PvMg"
      }
    },
    {
      "cell_type": "code",
      "source": [
        "import numpy as np\n",
        "numeros = np.array([[9, 8, 1], [7, 6, 7]])\n",
        "\n",
        "print(numeros + 10, '\\n')\n",
        "print(numeros - 10, '\\n')\n",
        "print(numeros * 10, '\\n')\n",
        "print(numeros / 10, '\\n')\n",
        "print(numeros // 10, '\\n')"
      ],
      "metadata": {
        "colab": {
          "base_uri": "https://localhost:8080/"
        },
        "id": "s7EEJLCAPycW",
        "outputId": "43dd12a2-074d-45de-ae9a-ba8f91323efe"
      },
      "execution_count": null,
      "outputs": [
        {
          "output_type": "stream",
          "name": "stdout",
          "text": [
            "[[19 18 11]\n",
            " [17 16 17]] \n",
            "\n",
            "[[-1 -2 -9]\n",
            " [-3 -4 -3]] \n",
            "\n",
            "[[90 80 10]\n",
            " [70 60 70]] \n",
            "\n",
            "[[0.9 0.8 0.1]\n",
            " [0.7 0.6 0.7]] \n",
            "\n",
            "[[0 0 0]\n",
            " [0 0 0]] \n",
            "\n"
          ]
        }
      ]
    },
    {
      "cell_type": "markdown",
      "source": [
        "## Reduciendo el resultado\n",
        "NumPy nos permite aplicar cualquier función sobre un array reduciendo el resultado por alguno de sus ejes. Esto abre una amplia gama de posibilidades."
      ],
      "metadata": {
        "id": "IgMQcdqxS8by"
      }
    },
    {
      "cell_type": "code",
      "source": [
        "import numpy as np\n",
        "valores = np.array([[8, 2, 7], [2, 0, 6], [6, 3, 4]])\n",
        "\n",
        "print(np.sum(valores, axis=0)) # suma por columnas\n",
        "\n",
        "print(np.sum(valores, axis=1)) # suma por filas\n",
        "\n",
        "print(np.prod(valores, axis=0)) # producto por columnas\n",
        "\n",
        "print(np.prod(valores, axis=1)) # producto por filas"
      ],
      "metadata": {
        "colab": {
          "base_uri": "https://localhost:8080/"
        },
        "id": "fmV4E_z5S-Vv",
        "outputId": "edaa33e1-f3bd-4792-e7bd-30d5e8aa1e8c"
      },
      "execution_count": null,
      "outputs": [
        {
          "output_type": "stream",
          "name": "stdout",
          "text": [
            "[16  5 17]\n",
            "[17  8 13]\n",
            "[ 96   0 168]\n",
            "[112   0  72]\n"
          ]
        }
      ]
    },
    {
      "cell_type": "markdown",
      "source": [
        "## Funciones estadísticas\n",
        "NumPy proporciona una gran cantidad de funciones estadísticas que pueden ser aplicadas sobre arrays.\n",
        "\n",
        "## Máximos y mínimos\n",
        "Una de las operaciones más comunes en el manejo de datos es encontrar máximos o\n",
        "mínimos. Para ello, disponemos de las típicas funciones con las ventajas del uso de arrays multidimensionales\n",
        "\n",
        "### Obtener los índices\n",
        "Las funciones `argmax()` y `argmin()` son funciones utilizadas para encontrar los índices de los valores máximo y mínimo en un arreglo o secuencia, respectivamente.\n",
        "\n",
        "Si hay múltiples valores ya sea máximos o mínimos, solo devuelve el índice del primer mínimo encontrado."
      ],
      "metadata": {
        "id": "29BIwuilUaeI"
      }
    },
    {
      "cell_type": "code",
      "source": [
        "import numpy as np\n",
        "\n",
        "dist = np.array([[-6.79006504, -0.01579498, -0.29182173, 0.3298951 , -5.30598975],\n",
        "[ 3.10720923, -4.09625791, -7.60624152, 2.3454259 , 9.23399023],\n",
        "[-7.4394269 , -9.68427195, 3.04248586, -5.9843767 , 1.536578 ],\n",
        "[ 3.33953286, -8.41584411, -9.530274 , -2.42827813, -7.34843663],\n",
        "[ 7.1508544 , 5.51727548, -3.20216834, -5.00154367, -7.15715252]])\n",
        "\n",
        "print(np.mean(dist))\n",
        "print(np.std(dist))\n",
        "print(np.median(dist))\n",
        "\n",
        "# Max y Min\n",
        "valores = np.array([[66, 54, 33, 15, 58],\n",
        "[55, 46, 39, 16, 38],\n",
        "[73, 75, 79, 25, 83],\n",
        "[81, 30, 22, 32, 8],\n",
        "[92, 25, 82, 10, 90]])\n",
        "\n",
        "# Mínimos\n",
        "print(np.min(valores), '\\n')\n",
        "print(np.min(valores, axis=0)) # Por filas\n",
        "print(np.min(valores, axis=1)) # Por columnas\n",
        "\n",
        "print(np.max(valores), '\\n')\n",
        "print(np.max(valores, axis=0))\n",
        "print(np.max(valores, axis=1))\n",
        "\n",
        "# Funciones argmax() y argmin()\n",
        "print('\\n',np.argmax(valores))\n",
        "print(np.argmax(valores, axis=0))\n",
        "print(np.argmax(valores, axis=1))\n",
        "\n",
        "print('\\n', np.argmin(valores))\n",
        "print(np.argmin(valores, axis=0))\n",
        "print(np.argmin(valores, axis=1))\n"
      ],
      "metadata": {
        "colab": {
          "base_uri": "https://localhost:8080/"
        },
        "id": "nthRKEaWUk0a",
        "outputId": "e0d0eaa7-7159-4862-8bfa-82bd902d83dd"
      },
      "execution_count": null,
      "outputs": [
        {
          "output_type": "stream",
          "name": "stdout",
          "text": [
            "-2.1877878728\n",
            "5.393254993673597\n",
            "-3.20216834\n",
            "8 \n",
            "\n",
            "[55 25 22 10  8]\n",
            "[15 16 25  8 10]\n",
            "92 \n",
            "\n",
            "[92 75 82 32 90]\n",
            "[66 55 83 81 92]\n",
            "\n",
            " 20\n",
            "[4 2 4 3 4]\n",
            "[0 0 4 0 0]\n",
            "\n",
            " 19\n",
            "[1 4 3 4 3]\n",
            "[3 3 3 4 3]\n"
          ]
        }
      ]
    },
    {
      "cell_type": "markdown",
      "source": [
        "## Vectorizando funciones\n",
        "Una de las ventajas de trabajar con arrays numéricos en NumPy es sacar provecho de la optimización que se produce a nivel de la propia estructura de datos."
      ],
      "metadata": {
        "id": "uNV_QoxXzGe_"
      }
    },
    {
      "cell_type": "code",
      "source": [
        "import numpy as np\n",
        "import timeit\n",
        "# Veamos un ejemplo en el que queremos realizar el siguiente\n",
        "# cálculo entre dos matrices 𝐴 y B\n",
        "\n",
        "# Fun. definida\n",
        "def custom(a, b):\n",
        "    if a > b:\n",
        "        return a + b\n",
        "    elif a < b:\n",
        "        return a - b\n",
        "    else:\n",
        "        return 0\n",
        "\n",
        "A = np.random.randint(-100, 100, size=(3000, 3000))\n",
        "B = np.random.randint(-100, 100, size=(3000, 3000))\n",
        "result = np.zeros_like(A)\n",
        "\n",
        "%%timeit\n",
        "for i in range(A.shape[0]):\n",
        "    for j in range(A.shape[1]):\n",
        "        result[i, j] = customf(A[i, j], B[i, j])"
      ],
      "metadata": {
        "colab": {
          "base_uri": "https://localhost:8080/"
        },
        "id": "1xr1WSsfzIhE",
        "outputId": "42d28956-ca0c-4dc7-d4aa-9459dece07ae"
      },
      "execution_count": 2,
      "outputs": [
        {
          "output_type": "stream",
          "name": "stderr",
          "text": [
            "UsageError: Line magic function `%%timeit` not found.\n"
          ]
        }
      ]
    },
    {
      "cell_type": "code",
      "source": [
        "import timeit\n",
        "import numpy as np\n",
        "\n",
        "def customf(a, b):\n",
        "    if a > b:\n",
        "        return a + b\n",
        "    elif a < b:\n",
        "        return a - b\n",
        "    else:\n",
        "        return 0\n",
        "\n",
        "# Paso 2: Definir la función a medir\n",
        "def my_function(arg1, arg2):\n",
        "    # Código de la función\n",
        "    vectorizada = np.vectorize(customf)\n",
        "    for i in range(A.shape[0]):\n",
        "        for j in range(A.shape[1]):\n",
        "            result[i, j] = vectorizada(A[i, j], B[i, j])\n",
        "\n",
        "A = np.random.randint(-100, 100, size=(10, 10))\n",
        "B = np.random.randint(-100, 100, size=(10, 10))\n",
        "result = np.zeros_like(A)\n",
        "\n",
        "my_function(A, B)\n",
        "print(result)"
      ],
      "metadata": {
        "colab": {
          "base_uri": "https://localhost:8080/"
        },
        "id": "5DwEBp3m12NM",
        "outputId": "5259dccf-98af-435e-c474-fa5444e2efcf"
      },
      "execution_count": 7,
      "outputs": [
        {
          "output_type": "stream",
          "name": "stdout",
          "text": [
            "[[   0  -88  -26   95  -46  -33   -1  -55  116 -125]\n",
            " [ -60  -10  -73 -163  -35  -10  -37 -105    6   89]\n",
            " [-168 -140  -11 -114  -85  -27  -43  144  -20    4]\n",
            " [   0 -137   46  -46   20 -146 -146  -26 -101   19]\n",
            " [ -49  104  -82  -53   25  -51  -48  -17  -55 -137]\n",
            " [  -6    3  -18  122  -19   12 -157   24  -88    4]\n",
            " [  34  -39 -138  -67  -39   49  -84   57  -70  -96]\n",
            " [  65  -95  -78  -66   44   78  -54  -96  -74  -15]\n",
            " [-125  -54 -156 -107  178 -114  -24  -29  -12  -66]\n",
            " [ -98  -61 -102  107 -169  -60   41 -109  116  -72]]\n"
          ]
        }
      ]
    },
    {
      "cell_type": "markdown",
      "source": [
        "## Ejercicio\n",
        "1. Cree dos matrices cuadradas de 20x20 con valores aleatorios flotantes uniformes en el\n",
        "intervalo [0, 1000)\n",
        "2. Vectorice una función que devuelva la media (elemento a elemento) entre las dos\n",
        "matrices.\n",
        "3. Realice la misma operación que en 2) pero usando suma de matrices y división por\n",
        "escalar.\n",
        "4. Compute los tiempos de ejecución de 2) y 3)"
      ],
      "metadata": {
        "id": "AGPVZ6ZCQVdz"
      }
    },
    {
      "cell_type": "markdown",
      "source": [
        "---\n",
        "#### Primera aproximación"
      ],
      "metadata": {
        "id": "wdmQrsLVbHPL"
      }
    },
    {
      "cell_type": "code",
      "source": [
        "import numpy as np\n",
        "import timeit\n",
        "\n",
        "# 1 - Matrices\n",
        "a = np.random.uniform(0, 1000, size=(2, 2))\n",
        "b = np.random.uniform(0, 1000, size=(2, 2))\n",
        "resultado = np.zeros_like(a)\n",
        "print(a, '\\n')\n",
        "print(b, '\\n')\n",
        "\n",
        "# 2  - Media\n",
        "calcular_media = np.vectorize(lambda a, b: (a + b) / 2)\n",
        "\n",
        "# 3 - Suma de matrices y división escalar\n",
        "calcular_matriz = np.vectorize(lambda a, b: (a + b) / 10)\n",
        "\n",
        "resultado_media = calcular_media(a, b)\n",
        "resultado_matriz = calcular_matriz(a, b)\n",
        "\n",
        "print(resultado_media, '\\n')\n",
        "print(resultado_matriz, '\\n')"
      ],
      "metadata": {
        "colab": {
          "base_uri": "https://localhost:8080/"
        },
        "id": "uJQSkKKuYDmI",
        "outputId": "3a489e50-9bec-4186-c06e-726cb817eae8"
      },
      "execution_count": 47,
      "outputs": [
        {
          "output_type": "stream",
          "name": "stdout",
          "text": [
            "[[769.30627376 276.54996281]\n",
            " [ 45.42471518 638.4913786 ]] \n",
            "\n",
            "[[ 23.70953846 571.87239359]\n",
            " [881.75751347 932.87878794]] \n",
            "\n",
            "[[396.50790611 424.2111782 ]\n",
            " [463.59111432 785.68508327]] \n",
            "\n",
            "[[ 79.30158122  84.84223564]\n",
            " [ 92.71822286 157.13701665]] \n",
            "\n"
          ]
        }
      ]
    },
    {
      "cell_type": "markdown",
      "source": [
        "#### Resultado final"
      ],
      "metadata": {
        "id": "uEFJchiQbSCS"
      }
    },
    {
      "cell_type": "code",
      "source": [
        "import numpy as np\n",
        "import timeit\n",
        "\n",
        "codigo_media = '''\n",
        "import numpy as np\n",
        "\n",
        "a = np.random.uniform(0, 1000, size=(20, 20))\n",
        "b = np.random.uniform(0, 1000, size=(20, 20))\n",
        "resultado = np.zeros_like(a)\n",
        "\n",
        "calcular_media = np.vectorize(lambda a, b: (a + b) / 2)\n",
        "\n",
        "resultado_media = calcular_media(a, b)\n",
        "'''\n",
        "\n",
        "codigo_suma = '''\n",
        "import numpy as np\n",
        "\n",
        "a = np.random.uniform(0, 1000, size=(20, 20))\n",
        "b = np.random.uniform(0, 1000, size=(20, 20))\n",
        "resultado = np.zeros_like(a)\n",
        "\n",
        "calcular_matriz = np.vectorize(lambda a, b: (a + b) / 10)\n",
        "\n",
        "resultado_matriz = calcular_matriz(a, b)\n",
        "'''\n",
        "\n",
        "timer_media = timeit.Timer(codigo_media)\n",
        "timer_suma = timeit.Timer(codigo_suma)\n",
        "\n",
        "execution_time_media = timer_media.timeit(number=1)\n",
        "execution_time_suma = timer_suma.timeit(number=1)\n",
        "\n",
        "print(\"Tiempo de ejecución media:\", execution_time_media)\n",
        "print(\"Tiempo de ejecución suma:\", execution_time_suma)\n"
      ],
      "metadata": {
        "colab": {
          "base_uri": "https://localhost:8080/"
        },
        "id": "8swwwZ0oZ_KD",
        "outputId": "1b756f64-9c77-4de2-c39e-3476efe32ed0"
      },
      "execution_count": 53,
      "outputs": [
        {
          "output_type": "stream",
          "name": "stdout",
          "text": [
            "Tiempo de ejecución media: 0.0004814889998669969\n",
            "Tiempo de ejecución suma: 0.00029931700009910855\n"
          ]
        }
      ]
    },
    {
      "cell_type": "markdown",
      "source": [
        "# Ejemplo"
      ],
      "metadata": {
        "id": "mYqw-a5kL4k2"
      }
    },
    {
      "cell_type": "code",
      "source": [
        "# Resolver ecuaciones lineales\n",
        "\n",
        "import numpy as np\n",
        "\n",
        "a = np.array([[8, 10],\n",
        "             [2, 5]])\n",
        "\n",
        "b = np.array([80, 25])\n",
        "\n",
        "print(np.linalg.solve(a, b))\n",
        "\n",
        "c = np.array([[1, 2, 1],\n",
        " [2, 4, 2], # Note that this row 2 * the first row\n",
        " [1, 0, 1]])\n",
        "d = np.array([4,8,5])\n",
        "x, residuals, rank, s = np.linalg.lstsq(c, d)\n",
        "print(x)"
      ],
      "metadata": {
        "colab": {
          "base_uri": "https://localhost:8080/"
        },
        "id": "HCRWxsWR9N8T",
        "outputId": "1117ce13-9703-4e31-b51f-6495afeec50f"
      },
      "execution_count": null,
      "outputs": [
        {
          "output_type": "stream",
          "name": "stdout",
          "text": [
            "[7.5 2. ]\n",
            "[ 2.5 -0.5  2.5]\n"
          ]
        },
        {
          "output_type": "stream",
          "name": "stderr",
          "text": [
            "<ipython-input-9-a510201570c4>:17: FutureWarning: `rcond` parameter will change to the default of machine precision times ``max(M, N)`` where M and N are the input matrix dimensions.\n",
            "To use the future default and silence this warning we advise to pass `rcond=None`, to keep using the old, explicitly pass `rcond=-1`.\n",
            "  x, residuals, rank, s = np.linalg.lstsq(c, d)\n"
          ]
        }
      ]
    }
  ]
}